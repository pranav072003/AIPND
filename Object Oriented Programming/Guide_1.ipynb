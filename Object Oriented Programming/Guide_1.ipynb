{
 "cells": [
  {
   "cell_type": "markdown",
   "metadata": {
    "editable": true
   },
   "source": [
    "# Use the Shirt Class\n",
    "\n",
    "You've seen what a class looks like and how to instantiate an object. Now it's your turn to write code that instantiates a shirt object.\n",
    "\n",
    "# Explanation of the Code\n",
    "This workspace contains a folder (or directory) containing two files:\n",
    "- Guide.ipynb, which is the file you are currently looking at\n",
    "- tests.py, which contains tests for checking your code - you can run these tests using the last code cell at the bottom of this notebook\n",
    "\n",
    "# Your Task\n",
    "The shirt_exercise.ipynb file, which you are currently looking at if you are reading this, has an exercise to help guide you through coding with an object in Python.\n",
    "\n",
    "Fill out the TODOs in each section of the Jupyter notebook. You can find a solution in the answer.py file.\n",
    "\n",
    "First, run this code cell below to load the Shirt class."
   ]
  },
  {
   "cell_type": "code",
   "execution_count": 2,
   "metadata": {
    "editable": true
   },
   "outputs": [],
   "source": [
    "class Shirt:\n",
    "\n",
    "    def __init__(self, shirt_color, shirt_size, shirt_style, shirt_price):\n",
    "        self.color = shirt_color\n",
    "        self.size = shirt_size\n",
    "        self.style = shirt_style\n",
    "        self.price = shirt_price\n",
    "    \n",
    "    def change_price(self, new_price):\n",
    "    \n",
    "        self.price = new_price\n",
    "        \n",
    "    def discount(self, discount):\n",
    "\n",
    "        return self.price * (1 - discount)"
   ]
  },
  {
   "cell_type": "code",
   "execution_count": 3,
   "metadata": {
    "editable": true
   },
   "outputs": [],
   "source": [
    "### TODO:\n",
    "#    - instantiate a shirt object with the following characteristics:\n",
    "#        - color red, size S, style long-sleeve, and price 25\n",
    "#    - store the object in a variable called shirt_one\n",
    "#\n",
    "#\n",
    "###\n",
    "shirt_one=Shirt(\"red\",\"S\",\"long-sleeve\",25)"
   ]
  },
  {
   "cell_type": "markdown",
   "metadata": {
    "editable": true,
    "toggleable": true,
    "ulab": {
     "buttons": {
      "ulab-button-toggle-d28d4f84": {
       "style": "primary"
      }
     }
    }
   },
   "source": [
    "```python\n",
    "shirt_one = Shirt('red', 'S', 'long-sleeve', 25)\n",
    "```"
   ]
  },
  {
   "cell_type": "code",
   "execution_count": 4,
   "metadata": {
    "editable": true
   },
   "outputs": [
    {
     "name": "stdout",
     "output_type": "stream",
     "text": [
      "25\n",
      "10\n",
      "8.8\n"
     ]
    }
   ],
   "source": [
    "### TODO:\n",
    "#     - print the price of the shirt using the price attribute\n",
    "#     - use the change_price method to change the price of the shirt to 10\n",
    "#     - print the price of the shirt using the price attribute\n",
    "#     - use the discount method to print the price of the shirt with a 12% discount\n",
    "#\n",
    "###\n",
    "print(shirt_one.price)\n",
    "shirt_one.change_price(10)\n",
    "print(shirt_one.price)\n",
    "print(shirt_one.discount(0.12))"
   ]
  },
  {
   "cell_type": "markdown",
   "metadata": {
    "editable": true,
    "toggleable": true,
    "ulab": {
     "buttons": {
      "ulab-button-toggle-77899291": {
       "style": "primary"
      }
     }
    }
   },
   "source": [
    "```python\n",
    "print(shirt_one.price)\n",
    "shirt_one.change_price(10)\n",
    "print(shirt_one.price)\n",
    "print(shirt_one.discount(.12))\n",
    "```"
   ]
  },
  {
   "cell_type": "code",
   "execution_count": 5,
   "metadata": {
    "editable": true
   },
   "outputs": [],
   "source": [
    "### TODO:\n",
    "#\n",
    "#    - instantiate another object with the following characteristics:\n",
    "# .       - color orange, size L, style short-sleeve, and price 10\n",
    "#    - store the object in a variable called shirt_two\n",
    "#\n",
    "###\n",
    "shirt_two=Shirt(\"orange\",\"L\",\"short-sleeve\",10)"
   ]
  },
  {
   "cell_type": "markdown",
   "metadata": {
    "editable": true,
    "toggleable": true,
    "ulab": {
     "buttons": {
      "ulab-button-toggle-7c0c2045": {
       "style": "primary"
      }
     }
    }
   },
   "source": [
    "```python\n",
    "shirt_two = Shirt('orange', 'L', 'short-sleeve', 10)\n",
    "```"
   ]
  },
  {
   "cell_type": "code",
   "execution_count": 6,
   "metadata": {
    "editable": true
   },
   "outputs": [],
   "source": [
    "### TODO:\n",
    "#\n",
    "#    - calculate the total cost of shirt_one and shirt_two\n",
    "#    - store the results in a variable called total\n",
    "#    \n",
    "###\n",
    "total=shirt_one.price + shirt_two.price"
   ]
  },
  {
   "cell_type": "markdown",
   "metadata": {
    "editable": true,
    "toggleable": true,
    "ulab": {
     "buttons": {
      "ulab-button-toggle-d0207a21": {
       "style": "primary"
      }
     }
    }
   },
   "source": [
    "```python\n",
    "total = shirt_one.price + shirt_two.price\n",
    "```"
   ]
  },
  {
   "cell_type": "code",
   "execution_count": 7,
   "metadata": {
    "editable": true
   },
   "outputs": [],
   "source": [
    "### TODO:\n",
    "#\n",
    "#    - use the shirt discount method to calculate the total cost if\n",
    "#       shirt_one has a discount of 14% and shirt_two has a discount\n",
    "#       of 6%\n",
    "#    - store the results in a variable called total_discount\n",
    "###\n",
    "total_discount= shirt_one.discount(0.14) + shirt_two.discount(0.06)"
   ]
  },
  {
   "cell_type": "markdown",
   "metadata": {
    "editable": true,
    "toggleable": true,
    "ulab": {
     "buttons": {
      "ulab-button-toggle-4a9f1873": {
       "style": "primary"
      }
     }
    }
   },
   "source": [
    "```python\n",
    "total_discount =  shirt_one.discount(.14) + shirt_two.discount(.06)\n",
    "```"
   ]
  },
  {
   "cell_type": "markdown",
   "metadata": {
    "editable": true
   },
   "source": [
    "# Test your Code\n",
    "\n",
    "\n",
    "The following code cell tests your code. \n",
    "\n",
    "Within the same directory as this folder, there is a file called tests.py containing a function called run_tests(). If you're curious to see the test code, you can use the file explorer on the left to open it.\n",
    "\n",
    "The run_tests() function executes a handful of `assert` statements to check your work.  \n",
    "\n",
    "Execute the next code cell. The code will produce an error if your answers in this exercise are not what was expected. Keep working on your code until all tests are passing.\n",
    "\n",
    "If you run the code cell and there is no output, then you passed all the tests!"
   ]
  },
  {
   "cell_type": "code",
   "execution_count": 8,
   "metadata": {
    "editable": true
   },
   "outputs": [],
   "source": [
    "# Unit tests to check your solution\n",
    "from tests import run_tests\n",
    "\n",
    "run_tests(shirt_one, shirt_two, total, total_discount)"
   ]
  },
  {
   "cell_type": "markdown",
   "metadata": {
    "editable": true
   },
   "source": []
  }
 ],
 "metadata": {
  "kernelspec": {
   "display_name": "Python 3",
   "language": "python",
   "name": "python3"
  },
  "language_info": {
   "codemirror_mode": {
    "name": "ipython",
    "version": 3
   },
   "file_extension": ".py",
   "mimetype": "text/x-python",
   "name": "python",
   "nbconvert_exporter": "python",
   "pygments_lexer": "ipython3",
   "version": "3.6.3"
  },
  "ulab_nb_type": "guided"
 },
 "nbformat": 4,
 "nbformat_minor": 4
}
